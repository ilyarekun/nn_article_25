{
 "cells": [
  {
   "cell_type": "code",
   "execution_count": 17,
   "metadata": {},
   "outputs": [],
   "source": [
    "import kagglehub\n",
    "import os\n",
    "import torch\n",
    "import torchvision.transforms as transforms\n",
    "from PIL import Image"
   ]
  },
  {
   "cell_type": "code",
   "execution_count": 18,
   "metadata": {},
   "outputs": [],
   "source": [
    "# Загрузка датасета\n",
    "dataset_path = kagglehub.dataset_download(\"masoudnickparvar/brain-tumor-mri-dataset\")"
   ]
  },
  {
   "cell_type": "code",
   "execution_count": 19,
   "metadata": {},
   "outputs": [],
   "source": [
    "# Определяем преобразования для изображений\n",
    "transform = transforms.Compose([\n",
    "    transforms.Resize((224, 224)),  # Изменение размера (можно адаптировать)\n",
    "    transforms.ToTensor(),          # Преобразование в тензор\n",
    "])\n"
   ]
  },
  {
   "cell_type": "code",
   "execution_count": null,
   "metadata": {},
   "outputs": [],
   "source": [
    "# Список тензоров и меток\n",
    "image_tensors = []\n",
    "labels = []\n",
    "\n",
    "# Проход по всем файлам в датасете\n",
    "for root, dirs, files in os.walk(dataset_path):\n",
    "    for file in files:\n",
    "        if file.endswith((\".jpg\", \".png\", \".jpeg\")):  # Проверяем формат\n",
    "            img_path = os.path.join(root, file)\n",
    "            img = Image.open(img_path).convert(\"RGB\")  # Открываем и конвертируем в RGB\n",
    "            img_tensor = transform(img)  # Преобразуем в тензор\n",
    "            image_tensors.append(img_tensor)\n",
    "\n",
    "            # Метка = название папки (если есть структура классов)\n",
    "            label = os.path.basename(root)\n",
    "            labels.append(label)\n"
   ]
  },
  {
   "cell_type": "code",
   "execution_count": null,
   "metadata": {},
   "outputs": [
    {
     "name": "stdout",
     "output_type": "stream",
     "text": [
      "Размерность массива тензоров: torch.Size([7023, 3, 224, 224])\n"
     ]
    }
   ],
   "source": [
    "\n",
    "# Преобразуем в единый тензорный массив\n",
    "image_tensors = torch.stack(image_tensors)\n",
    "\n",
    "print(\"Размерность массива тензоров:\", image_tensors.shape)  # (N, 3, 224, 224)"
   ]
  },
  {
   "cell_type": "code",
   "execution_count": null,
   "metadata": {},
   "outputs": [],
   "source": []
  }
 ],
 "metadata": {
  "kernelspec": {
   "display_name": "Python 3",
   "language": "python",
   "name": "python3"
  },
  "language_info": {
   "codemirror_mode": {
    "name": "ipython",
    "version": 3
   },
   "file_extension": ".py",
   "mimetype": "text/x-python",
   "name": "python",
   "nbconvert_exporter": "python",
   "pygments_lexer": "ipython3",
   "version": "3.11.9"
  }
 },
 "nbformat": 4,
 "nbformat_minor": 2
}
