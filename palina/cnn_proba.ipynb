{
 "cells": [
  {
   "cell_type": "code",
   "execution_count": null,
   "metadata": {},
   "outputs": [],
   "source": [
    "import kagglehub\n",
    "import os\n",
    "from PIL import Image\n",
    "from torch.utils.data import Dataset, DataLoader, ConcatDataset\n",
    "from torchvision import transforms"
   ]
  },
  {
   "cell_type": "code",
   "execution_count": null,
   "metadata": {},
   "outputs": [],
   "source": [
    "# Download latest version\n",
    "path = kagglehub.dataset_download(\"masoudnickparvar/brain-tumor-mri-dataset\")"
   ]
  },
  {
   "cell_type": "code",
   "execution_count": null,
   "metadata": {},
   "outputs": [],
   "source": [
    "print(\"Path to dataset files:\", path)\n",
    "for root, dirs, files in os.walk(path):\n",
    "    for file in files:\n",
    "        file_path = os.path.join(root, file)\n",
    "        # Разбиваем имя файла на имя и расширение\n",
    "        name, ext = os.path.splitext(file)\n",
    "        print(f\"Файл: {file_path} -> Расширение: {ext}\")"
   ]
  },
  {
   "cell_type": "code",
   "execution_count": null,
   "metadata": {},
   "outputs": [],
   "source": [
    "def resize_images_in_folder(input_folder, output_folder, target_size=(256, 256)):\n",
    "    \"\"\"\n",
    "    Изменяет размер всех изображений в указанной папке и сохраняет их в output_folder.\n",
    "    \n",
    "    Параметры:\n",
    "    - input_folder: Путь к папке с исходными изображениями.\n",
    "    - output_folder: Путь к папке, где будут сохранены измененные изображения.\n",
    "    - target_size: Кортеж (ширина, высота) нового размера изображений (по умолчанию 256x256).\n",
    "    \"\"\"\n",
    "    \n",
    "    # Если выходная папка не существует, создаем её\n",
    "    if not os.path.exists(output_folder):\n",
    "        os.makedirs(output_folder)\n",
    "\n",
    "    # Перебираем все файлы в папке и подкаталогах\n",
    "    for root, _, files in os.walk(input_folder):\n",
    "        for file in files:\n",
    "            # Проверяем, что файл - изображение (по расширению)\n",
    "            if file.lower().endswith(('.jpg', '.jpeg', '.png', '.bmp', '.tiff', '.webp')):\n",
    "                input_path = os.path.join(root, file)  # Полный путь к оригинальному файлу\n",
    "                output_path = os.path.join(output_folder, os.path.relpath(input_path, input_folder))  # Аналогичный путь в output_folder\n",
    "\n",
    "                # Создаем подкаталог, если он отсутствует\n",
    "                os.makedirs(os.path.dirname(output_path), exist_ok=True)\n",
    "\n",
    "                try:\n",
    "                    # Открываем изображение и изменяем его размер\n",
    "                    image = Image.open(input_path)\n",
    "                    image = image.resize(target_size, Image.LANCZOS)  # Изменение размера с сохранением качества\n",
    "                    \n",
    "                    # Преобразуем изображение в RGB, если оно не в RGB (некоторые изображения могут быть в Grayscale или RGBA)\n",
    "                    image = image.convert(\"RGB\")\n",
    "\n",
    "                    # Сохраняем изображение в output_folder (перезаписываем или создаем копию)\n",
    "                    image.save(output_path, quality=95)  # Устанавливаем качество 95 для хорошего сжатия без потери качества\n",
    "                    \n",
    "                    print(f\"✅ {file} -> {output_path}\")  # Лог успешного изменения размера\n",
    "                \n",
    "                except Exception as e:\n",
    "                    print(f\"❌ Ошибка обработки {file}: {e}\")\n",
    "\n",
    "# Указываем пути\n",
    "input_folder = r\"C:\\Users\\User\\.cache\\kagglehub\\datasets\\masoudnickparvar\\brain-tumor-mri-dataset\\versions\\1\"\n",
    "output_folder = r\"C:\\Users\\User\\.cache\\kagglehub\\datasets\\masoudnickparvar\\brain-tumor-mri-dataset\\versions\\1_resized\"\n",
    "\n",
    "# Запускаем процесс изменения размера\n",
    "resize_images_in_folder(input_folder, output_folder, target_size=(256, 256))"
   ]
  }
 ],
 "metadata": {
  "kernelspec": {
   "display_name": "Python 3",
   "language": "python",
   "name": "python3"
  },
  "language_info": {
   "name": "python",
   "version": "3.11.9"
  }
 },
 "nbformat": 4,
 "nbformat_minor": 2
}
