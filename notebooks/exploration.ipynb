{
 "cells": [
  {
   "cell_type": "markdown",
   "metadata": {},
   "source": [
    "## Imports"
   ]
  },
  {
   "cell_type": "code",
   "execution_count": null,
   "metadata": {},
   "outputs": [],
   "source": [
    "import sys\n",
    "import os\n",
    "sys.path.append(os.path.abspath(os.path.join(os.path.dirname('__file__'), '..', 'src')))\n",
    "\n",
    "#%pip install -r requirements.txt\n",
    "from data_preprocessing import data_preprocessing_tumor\n",
    "from model import BrainCNN\n",
    "\n",
    "\n",
    "import torch\n",
    "import torch.nn.functional as F\n",
    "import torchvision.transforms as transforms\n",
    "import torchbearer\n",
    "from torch import nn\n",
    "from torch import optim\n",
    "from torch.utils.data import DataLoader\n",
    "from torchbearer import Trial\n",
    "from torchmetrics import Precision, Recall, F1Score\n",
    "from torchbearer.callbacks import EarlyStopping"
   ]
  },
  {
   "cell_type": "markdown",
   "metadata": {},
   "source": [
    "Stochastic Gradient Descent (SGD) optimiser  \n",
    "categorical cross entropy as the loss function\n",
    "learning rate of 0.001 and\n",
    "categorical accuracy as the evaluation metric\n",
    "Model Accuracy and \n",
    "Model Loss respectively. \n",
    "This model was trained for 100 epochs,\n",
    "but if the validation loss fails to improve, \n",
    "the training process is terminated using an approach known as early stopping."
   ]
  },
  {
   "cell_type": "code",
   "execution_count": null,
   "metadata": {},
   "outputs": [],
   "source": [
    "trainLoader, testLoader = data_preprocessing_tumor()\n",
    "model = BrainCNN()\n",
    "loss_function = nn.CrossEntropyLoss()\n",
    "optimizer = optim.SGD(model.parameters(), lr=0.001)\n",
    "\n",
    "device = \"cuda:0\" if torch.cuda.is_available() else \"cpu\"\n",
    "trial = Trial(model, optimizer, loss_function, metrics=['loss', 'cat_accuracy', 'accuracy']).to(device)\n",
    "early_stopping = EarlyStopping(monitor='loss', patience=10, mode='min', verbose=1)\n",
    "trial.with_generators(trainLoader, test_generator=testLoader)\n",
    "\n",
    "trial.run(100, callbacks=[early_stopping])\n",
    "results = trial.evaluate(data_key=torchbearer.TEST_DATA)\n",
    "print(results)\n",
    "\n",
    "torch.save(model.state_dict(), \"./braincnn_prototype.weights\")\n"
   ]
  },
  {
   "cell_type": "code",
   "execution_count": null,
   "metadata": {},
   "outputs": [],
   "source": [
    "precision = Precision(num_classes=2, average='macro')  # Замените 2 на количество классов\n",
    "recall = Recall(num_classes=2, average='macro')  # Замените 2 на количество классов\n",
    "f1_score = F1Score(num_classes=2, average='macro')  # Замените 2 на количество классов\n",
    "\n",
    "# Извлечение предсказаний и меток для оценки дополнительных метрик\n",
    "model.eval()  # Устанавливаем модель в режим оценки\n",
    "y_true = []\n",
    "y_pred = []\n",
    "\n",
    "with torch.no_grad():  # Отключаем вычисление градиентов\n",
    "    for inputs, targets in testLoader:\n",
    "        inputs, targets = inputs.to(device), targets.to(device)\n",
    "        \n",
    "        outputs = model(inputs)\n",
    "        _, predicted = torch.max(outputs, 1)  # Получаем индексы максимальных вероятностей (классов)\n",
    "        \n",
    "        y_true.extend(targets.cpu().numpy())  # Сохраняем истинные метки\n",
    "        y_pred.extend(predicted.cpu().numpy())  # Сохраняем предсказанные метки\n",
    "\n",
    "# Переводим в тензоры\n",
    "y_true = torch.tensor(y_true)\n",
    "y_pred = torch.tensor(y_pred)\n",
    "\n",
    "# Обновляем метрики\n",
    "precision.update(y_pred, y_true)\n",
    "recall.update(y_pred, y_true)\n",
    "f1_score.update(y_pred, y_true)\n",
    "\n",
    "# Получаем значения метрик\n",
    "print(\"Precision:\", precision.compute())\n",
    "print(\"Recall:\", recall.compute())\n",
    "print(\"F1 Score:\", f1_score.compute())\n"
   ]
  }
 ],
 "metadata": {
  "kernelspec": {
   "display_name": "Python (myenv)",
   "language": "python",
   "name": "myenv"
  },
  "language_info": {
   "codemirror_mode": {
    "name": "ipython",
    "version": 3
   },
   "file_extension": ".py",
   "mimetype": "text/x-python",
   "name": "python",
   "nbconvert_exporter": "python",
   "pygments_lexer": "ipython3",
   "version": "3.13.2"
  }
 },
 "nbformat": 4,
 "nbformat_minor": 2
}
