{
 "cells": [
  {
   "cell_type": "markdown",
   "metadata": {},
   "source": [
    "## Imports"
   ]
  },
  {
   "cell_type": "code",
   "execution_count": 1,
   "metadata": {},
   "outputs": [
    {
     "name": "stdout",
     "output_type": "stream",
     "text": [
      "\u001b[0;94m Static hostname:\u001b[0m DGX\n",
      "\u001b[0;94m       Icon name:\u001b[0m computer-server\n",
      "\u001b[0;94m         Chassis:\u001b[0m server 🖳\n",
      "\u001b[0;94m      Machine ID:\u001b[0m dedf5691225742ff95b33f842b0781cc\n",
      "\u001b[0;94m         Boot ID:\u001b[0m cb04df0ff1774eeda112c63867eeefdd\n",
      "\u001b[0;94mOperating System:\u001b[0m \u001b]8;;https://www.ubuntu.com/\u0007Ubuntu 24.04.2 LTS\u001b]8;;\u0007              \n",
      "\u001b[0;94m          Kernel:\u001b[0m Linux 6.8.0-53-generic\n",
      "\u001b[0;94m    Architecture:\u001b[0m x86-64\n",
      "\u001b[0;94m Hardware Vendor:\u001b[0m NVIDIA\n",
      "\u001b[0;94m  Hardware Model:\u001b[0m DGXA100 920-23687-2530-002\n",
      "\u001b[0;94mFirmware Version:\u001b[0m 1.29\n",
      "\u001b[0;94m   Firmware Date:\u001b[0m Tue 2024-08-06\n",
      "\u001b[0;94m    Firmware Age:\u001b[0m 6month 4w 2d\n"
     ]
    }
   ],
   "source": [
    "!hostnamectl"
   ]
  },
  {
   "cell_type": "code",
   "execution_count": 2,
   "metadata": {
    "ExecuteTime": {
     "end_time": "2025-03-05T13:43:34.822477Z",
     "start_time": "2025-03-05T13:43:28.759435Z"
    }
   },
   "outputs": [],
   "source": [
    "\n",
    "import sys\n",
    "import os\n",
    "sys.path.append('../src')\n",
    "#%pip install -r requirements.txt\n",
    "from data_preprocessing import data_preprocessing_tumor\n",
    "from model import BrainCNN, EarlyStopping\n",
    "\n",
    "\n",
    "import torch\n",
    "import pickle\n",
    "import torch.nn.functional as F\n",
    "import torchvision.transforms as transforms\n",
    "import matplotlib.pyplot as plt\n",
    "from torch import nn\n",
    "from torch import optim\n",
    "from torch.utils.data import DataLoader\n",
    "from sklearn.metrics import accuracy_score, precision_score, recall_score, f1_score\n",
    "\n"
   ]
  },
  {
   "cell_type": "code",
   "execution_count": 3,
   "metadata": {
    "ExecuteTime": {
     "end_time": "2025-03-05T13:43:37.414735Z",
     "start_time": "2025-03-05T13:43:36.620509Z"
    }
   },
   "outputs": [
    {
     "name": "stdout",
     "output_type": "stream",
     "text": [
      "data was successfully loaded\n"
     ]
    }
   ],
   "source": [
    "train_loader, valid_loader, test_loader = data_preprocessing_tumor()\n",
    "print(\"data was successfully loaded\")"
   ]
  },
  {
   "cell_type": "code",
   "execution_count": 4,
   "metadata": {},
   "outputs": [
    {
     "name": "stdout",
     "output_type": "stream",
     "text": [
      "Train dataset size: 4916\n",
      "Validation dataset size: 1404\n",
      "Test dataset size: 703\n"
     ]
    }
   ],
   "source": [
    "print(f\"Train dataset size: {len(train_loader.dataset)}\")\n",
    "print(f\"Validation dataset size: {len(valid_loader.dataset)}\")\n",
    "print(f\"Test dataset size: {len(test_loader.dataset)}\")\n"
   ]
  },
  {
   "cell_type": "code",
   "execution_count": 5,
   "metadata": {},
   "outputs": [
    {
     "data": {
      "text/plain": [
       "' from collections import defaultdict\\n\\ndef count_images_per_class(loader):\\n    # Создаем словарь для подсчета изображений по классам\\n    class_counts = defaultdict(int)\\n\\n    # Проходим по всем батчам в лоадере\\n    for _, labels in loader:\\n        for label in labels:\\n            class_counts[label.item()] += 1  # Увеличиваем счетчик для каждого класса\\n\\n    return class_counts\\n\\n# Подсчитываем изображения по классам для каждого лоадера\\ntrain_class_counts = count_images_per_class(train_loader)\\nvalid_class_counts = count_images_per_class(valid_loader)\\ntest_class_counts = count_images_per_class(test_loader)\\n\\n# Выводим результат для каждого лоадера\\nprint(\"Train loader class counts:\")\\nfor class_label, count in train_class_counts.items():\\n    print(f\"Class {class_label}: {count} images\")\\n\\nprint(\"\\nValidation loader class counts:\")\\nfor class_label, count in valid_class_counts.items():\\n    print(f\"Class {class_label}: {count} images\")\\n\\nprint(\"\\nTest loader class counts:\")\\nfor class_label, count in test_class_counts.items():\\n    print(f\"Class {class_label}: {count} images\")\\n '"
      ]
     },
     "execution_count": 5,
     "metadata": {},
     "output_type": "execute_result"
    }
   ],
   "source": [
    "\"\"\" from collections import defaultdict\n",
    "\n",
    "def count_images_per_class(loader):\n",
    "    # Создаем словарь для подсчета изображений по классам\n",
    "    class_counts = defaultdict(int)\n",
    "\n",
    "    # Проходим по всем батчам в лоадере\n",
    "    for _, labels in loader:\n",
    "        for label in labels:\n",
    "            class_counts[label.item()] += 1  # Увеличиваем счетчик для каждого класса\n",
    "\n",
    "    return class_counts\n",
    "\n",
    "# Подсчитываем изображения по классам для каждого лоадера\n",
    "train_class_counts = count_images_per_class(train_loader)\n",
    "valid_class_counts = count_images_per_class(valid_loader)\n",
    "test_class_counts = count_images_per_class(test_loader)\n",
    "\n",
    "# Выводим результат для каждого лоадера\n",
    "print(\"Train loader class counts:\")\n",
    "for class_label, count in train_class_counts.items():\n",
    "    print(f\"Class {class_label}: {count} images\")\n",
    "\n",
    "print(\"\\nValidation loader class counts:\")\n",
    "for class_label, count in valid_class_counts.items():\n",
    "    print(f\"Class {class_label}: {count} images\")\n",
    "\n",
    "print(\"\\nTest loader class counts:\")\n",
    "for class_label, count in test_class_counts.items():\n",
    "    print(f\"Class {class_label}: {count} images\")\n",
    " \"\"\""
   ]
  },
  {
   "cell_type": "code",
   "execution_count": 6,
   "metadata": {},
   "outputs": [
    {
     "data": {
      "text/plain": [
       "' \\nimportant\\n\\n2 combinations should be tested:\\n1. last layer Softmax + loss func nn.NLLLoss\\n2. no last layer and CrossEntropyLoss\\n'"
      ]
     },
     "execution_count": 6,
     "metadata": {},
     "output_type": "execute_result"
    }
   ],
   "source": [
    "\n",
    "\"\"\" \n",
    "first try paper CCE, then NLLLoss\n",
    "cce_loss_fn = nn.NLLLoss()\n",
    "cce_logits_loss_fn = nn.CrossEntropyLoss()\n",
    "\n",
    "\n",
    "\n",
    ">>> optimizer = torch.optim.SGD(model.parameters(), lr=0.1, momentum=0.9)\n",
    ">>> optimizer.zero_grad()\n",
    ">>> loss_fn(model(input), target).backward()\n",
    ">>> optimizer.step()\n",
    "    def train(model, train_loader, valid_loader, ):\n",
    "\n",
    "\"\"\"\n",
    "\n",
    "\n",
    "\n",
    "\"\"\" \n",
    "important\n",
    "\n",
    "2 combinations should be tested:\n",
    "1. last layer Softmax + loss func nn.NLLLoss\n",
    "2. no last layer and CrossEntropyLoss\n",
    "\"\"\"\n"
   ]
  },
  {
   "cell_type": "code",
   "execution_count": null,
   "metadata": {
    "ExecuteTime": {
     "end_time": "2025-03-05T13:51:54.249459Z",
     "start_time": "2025-03-05T13:43:48.187375Z"
    }
   },
   "outputs": [
    {
     "name": "stdout",
     "output_type": "stream",
     "text": [
      "Epoch 1: Train Loss: 1.0258, Val Loss: 0.8021\n",
      "Epoch 2: Train Loss: 0.7196, Val Loss: 0.5994\n",
      "Epoch 3: Train Loss: 0.5643, Val Loss: 0.4958\n",
      "Epoch 4: Train Loss: 0.4681, Val Loss: 0.4272\n",
      "Epoch 5: Train Loss: 0.3910, Val Loss: 0.3995\n",
      "Epoch 6: Train Loss: 0.3292, Val Loss: 0.3407\n",
      "Epoch 7: Train Loss: 0.2740, Val Loss: 0.3057\n",
      "Epoch 8: Train Loss: 0.2274, Val Loss: 0.2702\n",
      "Epoch 9: Train Loss: 0.1968, Val Loss: 0.2429\n",
      "Epoch 10: Train Loss: 0.1625, Val Loss: 0.2735\n",
      "Epoch 11: Train Loss: 0.1382, Val Loss: 0.2353\n",
      "Epoch 12: Train Loss: 0.1110, Val Loss: 0.2108\n",
      "Epoch 13: Train Loss: 0.0970, Val Loss: 0.2056\n",
      "Epoch 14: Train Loss: 0.0745, Val Loss: 0.1984\n",
      "Epoch 15: Train Loss: 0.0636, Val Loss: 0.1898\n",
      "Epoch 16: Train Loss: 0.0472, Val Loss: 0.1755\n",
      "Epoch 17: Train Loss: 0.0416, Val Loss: 0.1790\n",
      "Epoch 18: Train Loss: 0.0345, Val Loss: 0.1694\n",
      "Epoch 19: Train Loss: 0.0331, Val Loss: 0.1813\n",
      "Epoch 20: Train Loss: 0.0282, Val Loss: 0.1693\n",
      "Epoch 21: Train Loss: 0.0243, Val Loss: 0.1855\n",
      "Epoch 22: Train Loss: 0.0187, Val Loss: 0.1710\n",
      "Epoch 23: Train Loss: 0.0176, Val Loss: 0.1674\n",
      "Epoch 24: Train Loss: 0.0156, Val Loss: 0.1820\n",
      "Epoch 25: Train Loss: 0.0138, Val Loss: 0.1661\n",
      "Epoch 26: Train Loss: 0.0121, Val Loss: 0.2159\n",
      "Epoch 27: Train Loss: 0.0108, Val Loss: 0.1737\n",
      "Epoch 28: Train Loss: 0.0107, Val Loss: 0.1728\n",
      "Epoch 29: Train Loss: 0.0096, Val Loss: 0.1639\n",
      "Epoch 30: Train Loss: 0.0089, Val Loss: 0.1635\n",
      "Epoch 31: Train Loss: 0.0074, Val Loss: 0.1649\n",
      "Epoch 32: Train Loss: 0.0071, Val Loss: 0.1664\n",
      "Epoch 33: Train Loss: 0.0061, Val Loss: 0.1665\n",
      "Epoch 34: Train Loss: 0.0077, Val Loss: 0.1630\n",
      "Epoch 35: Train Loss: 0.0061, Val Loss: 0.1813\n",
      "Epoch 36: Train Loss: 0.0066, Val Loss: 0.1645\n",
      "Epoch 37: Train Loss: 0.0076, Val Loss: 0.1632\n",
      "Epoch 38: Train Loss: 0.0049, Val Loss: 0.1727\n",
      "Epoch 39: Train Loss: 0.0042, Val Loss: 0.1674\n",
      "Epoch 40: Train Loss: 0.0047, Val Loss: 0.1740\n",
      "Epoch 41: Train Loss: 0.0040, Val Loss: 0.1674\n",
      "Epoch 42: Train Loss: 0.0037, Val Loss: 0.1786\n",
      "Epoch 43: Train Loss: 0.0039, Val Loss: 0.1673\n",
      "Epoch 44: Train Loss: 0.0043, Val Loss: 0.2207\n",
      "Epoch 45: Train Loss: 0.0046, Val Loss: 0.1764\n",
      "Epoch 46: Train Loss: 0.0039, Val Loss: 0.1720\n",
      "Epoch 47: Train Loss: 0.0030, Val Loss: 0.1781\n",
      "Epoch 48: Train Loss: 0.0033, Val Loss: 0.1770\n",
      "Epoch 49: Train Loss: 0.0024, Val Loss: 0.1778\n",
      "Epoch 50: Train Loss: 0.0026, Val Loss: 0.1673\n"
     ]
    }
   ],
   "source": [
    "# Hyperparameters\n",
    "\n",
    "num_epochs=50\n",
    "patience=1\n",
    "learning_rate=0.001\n",
    "device = \"cuda:0\" if torch.cuda.is_available() else \"cpu\"\n",
    "model = BrainCNN()\n",
    "model = model.to(device)\n",
    "criterion = nn.CrossEntropyLoss()\n",
    "optimizer = optim.SGD(model.parameters(), lr=learning_rate, momentum=0.9, weight_decay=1e-4)\n",
    "early_stopping = EarlyStopping(patience=5, delta=0.01)\n",
    "\n",
    "# Metrics for runtime calculations\n",
    "\n",
    "train_loss_metr = []\n",
    "val_loss_metr = []\n",
    "\n",
    "train_acc_metr = []\n",
    "val_acc_metr = []\n",
    "\n",
    "\n",
    "for epoch in range(num_epochs):\n",
    "    model.train()\n",
    "    train_loss = 0.0\n",
    "    correct_train = 0\n",
    "    total_train = 0\n",
    "    \n",
    "    for data, target in train_loader:\n",
    "        data, target = data.to(device), target.to(device)\n",
    "        optimizer.zero_grad()\n",
    "        output = model(data)\n",
    "        loss = criterion(output, target)\n",
    "        loss.backward()\n",
    "        optimizer.step()\n",
    "        train_loss += loss.item() * data.size(0)\n",
    "        \n",
    "        _, predicted = torch.max(output, 1)\n",
    "        total_train += target.size(0)\n",
    "        correct_train += (predicted == target).sum().item()\n",
    "        \n",
    "    train_loss /= len(train_loader.dataset)\n",
    "    train_acc = correct_train / total_train\n",
    "    \n",
    "    model.eval()\n",
    "    val_loss = 0.0\n",
    "    correct_val = 0\n",
    "    total_val = 0\n",
    "    val_targets = []\n",
    "    val_preds = []\n",
    "    \n",
    "    with torch.no_grad():\n",
    "        for data, target in valid_loader:\n",
    "            data, target = data.to(device), target.to(device)\n",
    "            output = model(data)\n",
    "            loss = criterion(output, target)\n",
    "            val_loss += loss.item() * data.size(0)\n",
    "            \n",
    "            _, predicted = torch.max(output, 1)\n",
    "            total_val += target.size(0)\n",
    "            correct_val += (predicted == target).sum().item()\n",
    "            \n",
    "            val_targets.extend(target.cpu().numpy())\n",
    "            val_preds.extend(predicted.cpu().numpy())\n",
    "    \n",
    "    val_loss /= len(valid_loader.dataset)\n",
    "    val_acc = correct_val / total_val\n",
    "    \n",
    "    train_loss_metr.append(train_loss)\n",
    "    val_loss_metr.append(val_loss)\n",
    "    train_acc_metr.append(train_acc)\n",
    "    val_acc_metr.append(val_acc)\n",
    "\n",
    "    print(f\"Epoch {epoch+1}: Train Loss: {train_loss:.4f}, Val Loss: {val_loss:.4f}\")\n",
    "    \n",
    "    early_stopping(val_loss, model)\n",
    "    \"\"\" if early_stopping.early_stop:\n",
    "        print(\"Early stopping\")\n",
    "        break \"\"\"\n",
    "\n",
    "\n",
    "\n",
    "torch.save(model.state_dict(), \"./braincnn_prototype.weights\")"
   ]
  },
  {
   "cell_type": "code",
   "execution_count": 10,
   "metadata": {},
   "outputs": [
    {
     "name": "stdout",
     "output_type": "stream",
     "text": [
      "Accuracy of the model on the test images: 95.31%\n",
      "Accuracy: 95.31%\n",
      "Precision: 0.95\n",
      "Recall: 0.95\n",
      "F1 Score: 0.95\n"
     ]
    }
   ],
   "source": [
    "early_stopping.load_best_model(model)\n",
    "\n",
    "# Final evaluation on the test set\n",
    "model.eval()\n",
    "correct = 0\n",
    "total = 0\n",
    "test_targets = []\n",
    "test_preds = []\n",
    "\n",
    "with torch.no_grad():\n",
    "    for data, target in test_loader:\n",
    "        data, target = data.to(device), target.to(device)\n",
    "        \n",
    "        outputs = model(data)\n",
    "        _, predicted = torch.max(outputs.data, 1)\n",
    "        total += target.size(0)\n",
    "        correct += (predicted == target).sum().item()\n",
    "        \n",
    "        test_targets.extend(target.cpu().numpy())\n",
    "        test_preds.extend(predicted.cpu().numpy())\n",
    "\n",
    "test_accuracy = 100 * correct / total\n",
    "print(f'Accuracy of the model on the test images: {100 * correct / total:.2f}%')\n",
    "\n",
    "\n",
    "\n",
    "\n",
    "accuracy = test_accuracy  # уже посчитано выше\n",
    "precision = precision_score(test_targets, test_preds, average='weighted')\n",
    "recall = recall_score(test_targets, test_preds, average='weighted')\n",
    "f1 = f1_score(test_targets, test_preds, average='weighted')\n",
    "\n",
    "# Print the results\n",
    "print(f'Accuracy: {accuracy:.2f}%')\n",
    "print(f'Precision: {precision:.2f}')\n",
    "print(f'Recall: {recall:.2f}')\n",
    "print(f'F1 Score: {f1:.2f}')\n",
    "\n",
    "with open(\"training_metrics.pkl\", \"wb\") as f:\n",
    "    pickle.dump({\n",
    "        \"train_loss\": train_loss_metr,\n",
    "        \"val_loss\": val_loss_metr,\n",
    "        \"train_acc\": train_acc_metr,\n",
    "        \"val_acc\": val_acc_metr,\n",
    "        \"accuracy\": accuracy,\n",
    "        \"precision\": precision,\n",
    "        \"recall\": recall,\n",
    "        \"f1_score\": f1\n",
    "    }, f)\n",
    "\n",
    "torch.save(model.state_dict(), \"./braincnn_prototype.weights\")"
   ]
  },
  {
   "cell_type": "code",
   "execution_count": 9,
   "metadata": {
    "ExecuteTime": {
     "end_time": "2025-03-05T13:52:17.122571Z",
     "start_time": "2025-03-05T13:52:16.846883Z"
    }
   },
   "outputs": [
    {
     "data": {
      "image/png": "[encoded data removed]",
      "text/plain": [
       "<Figure size 1200x500 with 2 Axes>"
      ]
     },
     "metadata": {},
     "output_type": "display_data"
    }
   ],
   "source": [
    "# Load metrics\n",
    "with open(\"training_metrics.pkl\", \"rb\") as f:\n",
    "    metrics = pickle.load(f)\n",
    "\n",
    "train_loss_metr = metrics[\"train_loss\"]\n",
    "val_loss_metr = metrics[\"val_loss\"]\n",
    "train_acc_metr = metrics[\"train_acc\"]\n",
    "val_acc_metr = metrics[\"val_acc\"]\n",
    "\n",
    "plt.figure(figsize=(12, 5))\n",
    "\n",
    "# Loss curve\n",
    "plt.subplot(1, 2, 1)\n",
    "plt.plot(train_loss_metr, label='Train Loss')\n",
    "plt.plot(val_loss_metr, label='Validation Loss')\n",
    "plt.xlabel('Epochs')\n",
    "plt.ylabel('Loss')\n",
    "plt.legend()\n",
    "plt.title('Loss Curve')\n",
    "\n",
    "# Accuracy curve\n",
    "plt.subplot(1, 2, 2)\n",
    "plt.plot(train_acc_metr, label='Train Accuracy')\n",
    "plt.plot(val_acc_metr, label='Validation Accuracy')\n",
    "plt.xlabel('Epochs')\n",
    "plt.ylabel('Accuracy')\n",
    "plt.legend()\n",
    "plt.title('Accuracy Curve')\n",
    "\n",
    "plt.savefig(\"training_plots.png\", dpi=300, bbox_inches=\"tight\")  # Сохранение в файл\n",
    "plt.show()\n"
   ]
  },
  {
   "cell_type": "code",
   "execution_count": null,
   "metadata": {},
   "outputs": [],
   "source": []
  }
 ],
 "metadata": {
  "kernelspec": {
   "display_name": "Python (myenv)",
   "language": "python",
   "name": "myenv"
  },
  "language_info": {
   "codemirror_mode": {
    "name": "ipython",
    "version": 3
   },
   "file_extension": ".py",
   "mimetype": "text/x-python",
   "name": "python",
   "nbconvert_exporter": "python",
   "pygments_lexer": "ipython3",
   "version": "3.12.9"
  }
 },
 "nbformat": 4,
 "nbformat_minor": 2
}
