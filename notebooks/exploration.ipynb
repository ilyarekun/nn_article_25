{
 "cells": [
  {
   "cell_type": "markdown",
   "metadata": {},
   "source": [
    "## Imports"
   ]
  },
  {
   "cell_type": "code",
   "execution_count": 1,
   "metadata": {},
   "outputs": [
    {
     "name": "stdout",
     "output_type": "stream",
     "text": [
      "\u001b[0;94m Static hostname:\u001b[0m DGX\n",
      "\u001b[0;94m       Icon name:\u001b[0m computer-server\n",
      "\u001b[0;94m         Chassis:\u001b[0m server 🖳\n",
      "\u001b[0;94m      Machine ID:\u001b[0m dedf5691225742ff95b33f842b0781cc\n",
      "\u001b[0;94m         Boot ID:\u001b[0m cb04df0ff1774eeda112c63867eeefdd\n",
      "\u001b[0;94mOperating System:\u001b[0m \u001b]8;;https://www.ubuntu.com/\u0007Ubuntu 24.04.2 LTS\u001b]8;;\u0007              \n",
      "\u001b[0;94m          Kernel:\u001b[0m Linux 6.8.0-53-generic\n",
      "\u001b[0;94m    Architecture:\u001b[0m x86-64\n",
      "\u001b[0;94m Hardware Vendor:\u001b[0m NVIDIA\n",
      "\u001b[0;94m  Hardware Model:\u001b[0m DGXA100 920-23687-2530-002\n",
      "\u001b[0;94mFirmware Version:\u001b[0m 1.29\n",
      "\u001b[0;94m   Firmware Date:\u001b[0m Tue 2024-08-06\n",
      "\u001b[0;94m    Firmware Age:\u001b[0m 6month 4w 2d\n"
     ]
    }
   ],
   "source": [
    "!hostnamectl"
   ]
  },
  {
   "cell_type": "code",
   "execution_count": 2,
   "metadata": {
    "ExecuteTime": {
     "end_time": "2025-03-05T13:43:34.822477Z",
     "start_time": "2025-03-05T13:43:28.759435Z"
    }
   },
   "outputs": [],
   "source": [
    "\n",
    "import sys\n",
    "import os\n",
    "sys.path.append('../src')\n",
    "#%pip install -r requirements.txt\n",
    "from data_preprocessing import data_preprocessing_tumor\n",
    "from model import BrainCNN, EarlyStopping\n",
    "\n",
    "\n",
    "import torch\n",
    "import pickle\n",
    "import torch.nn.functional as F\n",
    "import torchvision.transforms as transforms\n",
    "import matplotlib.pyplot as plt\n",
    "from torch import nn\n",
    "from torch import optim\n",
    "from torch.utils.data import DataLoader\n",
    "from sklearn.metrics import accuracy_score, precision_score, recall_score, f1_score\n",
    "\n"
   ]
  },
  {
   "cell_type": "code",
   "execution_count": 3,
   "metadata": {
    "ExecuteTime": {
     "end_time": "2025-03-05T13:43:37.414735Z",
     "start_time": "2025-03-05T13:43:36.620509Z"
    }
   },
   "outputs": [
    {
     "name": "stdout",
     "output_type": "stream",
     "text": [
      "Downloading from https://www.kaggle.com/api/v1/datasets/download/masoudnickparvar/brain-tumor-mri-dataset?dataset_version_number=1...\n"
     ]
    },
    {
     "name": "stderr",
     "output_type": "stream",
     "text": [
      "100%|██████████| 149M/149M [00:04<00:00, 33.7MB/s] "
     ]
    },
    {
     "name": "stdout",
     "output_type": "stream",
     "text": [
      "Extracting files...\n"
     ]
    },
    {
     "name": "stderr",
     "output_type": "stream",
     "text": [
      "\n"
     ]
    },
    {
     "name": "stdout",
     "output_type": "stream",
     "text": [
      "['pituitary', 'notumor', 'meningioma', 'glioma']\n",
      "['pituitary', 'notumor', 'meningioma', 'glioma']\n",
      "data was successfully loaded\n"
     ]
    }
   ],
   "source": [
    "train_loader, test_loader = data_preprocessing_tumor()\n",
    "print(\"data was successfully loaded\")"
   ]
  },
  {
   "cell_type": "code",
   "execution_count": null,
   "metadata": {},
   "outputs": [
    {
     "name": "stdout",
     "output_type": "stream",
     "text": [
      "Train dataset size: 5712\n",
      "Test dataset size: 1311\n"
     ]
    }
   ],
   "source": [
    "print(f\"Train dataset size: {len(train_loader.dataset)}\")\n",
    "#print(f\"Validation dataset size: {len(valid_loader.dataset)}\")\n",
    "print(f\"Test dataset size: {len(test_loader.dataset)}\")\n"
   ]
  },
  {
   "cell_type": "code",
   "execution_count": 5,
   "metadata": {},
   "outputs": [
    {
     "name": "stdout",
     "output_type": "stream",
     "text": [
      "Train loader class counts:\n",
      "Class 3: 1457 images\n",
      "Class 1: 1339 images\n",
      "Class 2: 1595 images\n",
      "Class 0: 1321 images\n",
      "\n",
      "Test loader class counts:\n",
      "Class 0: 300 images\n",
      "Class 1: 306 images\n",
      "Class 2: 405 images\n",
      "Class 3: 300 images\n"
     ]
    }
   ],
   "source": [
    "from collections import defaultdict\n",
    "\n",
    "def count_images_per_class(loader):\n",
    "    class_counts = defaultdict(int)\n",
    "\n",
    "    for _, labels in loader:\n",
    "        for label in labels:\n",
    "            class_counts[label.item()] += 1 \n",
    "\n",
    "    return class_counts\n",
    "\n",
    "train_class_counts = count_images_per_class(train_loader)\n",
    "test_class_counts = count_images_per_class(test_loader)\n",
    "\n",
    "print(\"Train loader class counts:\")\n",
    "for class_label, count in train_class_counts.items():\n",
    "    print(f\"Class {class_label}: {count} images\")\n",
    "\n",
    "print(\"\\nTest loader class counts:\")\n",
    "for class_label, count in test_class_counts.items():\n",
    "    print(f\"Class {class_label}: {count} images\")\n"
   ]
  },
  {
   "cell_type": "code",
   "execution_count": 6,
   "metadata": {},
   "outputs": [
    {
     "data": {
      "text/plain": [
       "' \\nimportant\\n\\n2 combinations should be tested:\\n1. last layer Softmax + loss func nn.NLLLoss\\n2. no last layer and CrossEntropyLoss\\n'"
      ]
     },
     "execution_count": 6,
     "metadata": {},
     "output_type": "execute_result"
    }
   ],
   "source": [
    "\n",
    "\"\"\" \n",
    "first try paper CCE, then NLLLoss\n",
    "cce_loss_fn = nn.NLLLoss()\n",
    "cce_logits_loss_fn = nn.CrossEntropyLoss()\n",
    "\n",
    "\n",
    "\n",
    ">>> optimizer = torch.optim.SGD(model.parameters(), lr=0.1, momentum=0.9)\n",
    ">>> optimizer.zero_grad()\n",
    ">>> loss_fn(model(input), target).backward()\n",
    ">>> optimizer.step()\n",
    "    def train(model, train_loader, valid_loader, ):\n",
    "\n",
    "\"\"\"\n",
    "\n",
    "\n",
    "\n",
    "\"\"\" \n",
    "important\n",
    "\n",
    "2 combinations should be tested:\n",
    "1. last layer Softmax + loss func nn.NLLLoss\n",
    "2. no last layer and CrossEntropyLoss\n",
    "\"\"\"\n"
   ]
  },
  {
   "cell_type": "code",
   "execution_count": 7,
   "metadata": {
    "ExecuteTime": {
     "end_time": "2025-03-05T13:51:54.249459Z",
     "start_time": "2025-03-05T13:43:48.187375Z"
    }
   },
   "outputs": [
    {
     "name": "stdout",
     "output_type": "stream",
     "text": [
      "Epoch 1: Train Loss: 0.7890, Val Loss: 0.6032\n",
      "Epoch 2: Train Loss: 0.4625, Val Loss: 0.5056\n",
      "Epoch 3: Train Loss: 0.3195, Val Loss: 0.3912\n",
      "Epoch 4: Train Loss: 0.2347, Val Loss: 0.3004\n",
      "Epoch 5: Train Loss: 0.1686, Val Loss: 0.2568\n",
      "Epoch 6: Train Loss: 0.1047, Val Loss: 0.7140\n",
      "Epoch 7: Train Loss: 0.0657, Val Loss: 0.2191\n",
      "Epoch 8: Train Loss: 0.0414, Val Loss: 0.1290\n",
      "Epoch 9: Train Loss: 0.0267, Val Loss: 0.1196\n",
      "Epoch 10: Train Loss: 0.0154, Val Loss: 0.1234\n",
      "Epoch 11: Train Loss: 0.0121, Val Loss: 0.0984\n",
      "Epoch 12: Train Loss: 0.0101, Val Loss: 0.0999\n",
      "Epoch 13: Train Loss: 0.0102, Val Loss: 0.1051\n",
      "Epoch 14: Train Loss: 0.0071, Val Loss: 0.1009\n",
      "Epoch 15: Train Loss: 0.0057, Val Loss: 0.1110\n",
      "Epoch 16: Train Loss: 0.0046, Val Loss: 0.0965\n",
      "Epoch 17: Train Loss: 0.0044, Val Loss: 0.0883\n",
      "Epoch 18: Train Loss: 0.0037, Val Loss: 0.0953\n",
      "Epoch 19: Train Loss: 0.0033, Val Loss: 0.1071\n",
      "Epoch 20: Train Loss: 0.0032, Val Loss: 0.1078\n",
      "Epoch 21: Train Loss: 0.0029, Val Loss: 0.0992\n",
      "Epoch 22: Train Loss: 0.0023, Val Loss: 0.1060\n",
      "Epoch 23: Train Loss: 0.0024, Val Loss: 0.1077\n",
      "Epoch 24: Train Loss: 0.0022, Val Loss: 0.0984\n",
      "Epoch 25: Train Loss: 0.0022, Val Loss: 0.0982\n",
      "Epoch 26: Train Loss: 0.0018, Val Loss: 0.1033\n",
      "Epoch 27: Train Loss: 0.0017, Val Loss: 0.1074\n",
      "Epoch 28: Train Loss: 0.0017, Val Loss: 0.1080\n",
      "Epoch 29: Train Loss: 0.0016, Val Loss: 0.1047\n",
      "Epoch 30: Train Loss: 0.0015, Val Loss: 0.1090\n",
      "Epoch 31: Train Loss: 0.0014, Val Loss: 0.1046\n",
      "Epoch 32: Train Loss: 0.0014, Val Loss: 0.1169\n",
      "Epoch 33: Train Loss: 0.0014, Val Loss: 0.1074\n",
      "Epoch 34: Train Loss: 0.0012, Val Loss: 0.1049\n",
      "Epoch 35: Train Loss: 0.0011, Val Loss: 0.1078\n",
      "Epoch 36: Train Loss: 0.0011, Val Loss: 0.1064\n",
      "Epoch 37: Train Loss: 0.0011, Val Loss: 0.1189\n",
      "Epoch 38: Train Loss: 0.0011, Val Loss: 0.1081\n",
      "Epoch 39: Train Loss: 0.0010, Val Loss: 0.1066\n",
      "Epoch 40: Train Loss: 0.0010, Val Loss: 0.1091\n",
      "Epoch 41: Train Loss: 0.0010, Val Loss: 0.1087\n",
      "Epoch 42: Train Loss: 0.0009, Val Loss: 0.1051\n",
      "Epoch 43: Train Loss: 0.0009, Val Loss: 0.1281\n",
      "Epoch 44: Train Loss: 0.0008, Val Loss: 0.1098\n",
      "Epoch 45: Train Loss: 0.0009, Val Loss: 0.1017\n",
      "Epoch 46: Train Loss: 0.0009, Val Loss: 0.1032\n",
      "Epoch 47: Train Loss: 0.0007, Val Loss: 0.1096\n",
      "Epoch 48: Train Loss: 0.0008, Val Loss: 0.1130\n",
      "Epoch 49: Train Loss: 0.0007, Val Loss: 0.1090\n",
      "Epoch 50: Train Loss: 0.0007, Val Loss: 0.1102\n"
     ]
    }
   ],
   "source": [
    "# Hyperparameters\n",
    "\n",
    "num_epochs=50\n",
    "patience=1\n",
    "learning_rate=0.001\n",
    "device = \"cuda:0\" if torch.cuda.is_available() else \"cpu\"\n",
    "model = BrainCNN()\n",
    "model = model.to(device)\n",
    "criterion = nn.CrossEntropyLoss()\n",
    "optimizer = optim.SGD(model.parameters(), lr=learning_rate)\n",
    "early_stopping = EarlyStopping(patience=5, delta=0.01)\n",
    "\n",
    "# Metrics for runtime calculations\n",
    "\n",
    "train_loss_metr = []\n",
    "val_loss_metr = []\n",
    "\n",
    "train_acc_metr = []\n",
    "val_acc_metr = []\n",
    "\n",
    "\n",
    "for epoch in range(num_epochs):\n",
    "    model.train()\n",
    "    train_loss = 0.0\n",
    "    correct_train = 0\n",
    "    total_train = 0\n",
    "    \n",
    "    for data, target in train_loader:\n",
    "        data, target = data.to(device), target.to(device)\n",
    "        optimizer.zero_grad()\n",
    "        output = model(data)\n",
    "        loss = criterion(output, target)\n",
    "        loss.backward()\n",
    "        optimizer.step()\n",
    "        train_loss += loss.item() * data.size(0)\n",
    "        \n",
    "        _, predicted = torch.max(output, 1)\n",
    "        total_train += target.size(0)\n",
    "        correct_train += (predicted == target).sum().item()\n",
    "        \n",
    "    train_loss /= len(train_loader.dataset)\n",
    "    train_acc = correct_train / total_train\n",
    "    \n",
    "    model.eval()\n",
    "    val_loss = 0.0\n",
    "    correct_val = 0\n",
    "    total_val = 0\n",
    "    val_targets = []\n",
    "    val_preds = []\n",
    "    \n",
    "    with torch.no_grad():\n",
    "        for data, target in test_loader:\n",
    "            data, target = data.to(device), target.to(device)\n",
    "            output = model(data)\n",
    "            loss = criterion(output, target)\n",
    "            val_loss += loss.item() * data.size(0)\n",
    "            \n",
    "            _, predicted = torch.max(output, 1)\n",
    "            total_val += target.size(0)\n",
    "            correct_val += (predicted == target).sum().item()\n",
    "            \n",
    "            val_targets.extend(target.cpu().numpy())\n",
    "            val_preds.extend(predicted.cpu().numpy())\n",
    "    \n",
    "    val_loss /= len(test_loader.dataset)\n",
    "    val_acc = correct_val / total_val\n",
    "    \n",
    "    train_loss_metr.append(train_loss)\n",
    "    val_loss_metr.append(val_loss)\n",
    "    train_acc_metr.append(train_acc)\n",
    "    val_acc_metr.append(val_acc)\n",
    "\n",
    "    print(f\"Epoch {epoch+1}: Train Loss: {train_loss:.4f}, Val Loss: {val_loss:.4f}\")\n",
    "    \n",
    "    early_stopping(val_loss, model)\n",
    "    \"\"\" if early_stopping.early_stop:\n",
    "        print(\"Early stopping\")\n",
    "        break \"\"\"\n",
    "\n",
    "\n",
    "\n",
    "torch.save(model.state_dict(), \"./braincnn_prototype.weights\")"
   ]
  },
  {
   "cell_type": "code",
   "execution_count": 10,
   "metadata": {},
   "outputs": [
    {
     "name": "stdout",
     "output_type": "stream",
     "text": [
      "Accuracy of the model on the test images: 96.72%\n",
      "Accuracy: 96.72%\n",
      "Precision: 0.97\n",
      "Recall: 0.97\n",
      "F1 Score: 0.97\n"
     ]
    }
   ],
   "source": [
    "early_stopping.load_best_model(model)\n",
    "\n",
    "# Final evaluation on the test set\n",
    "model.eval()\n",
    "correct = 0\n",
    "total = 0\n",
    "test_targets = []\n",
    "test_preds = []\n",
    "\n",
    "with torch.no_grad():\n",
    "    for data, target in test_loader:\n",
    "        data, target = data.to(device), target.to(device)\n",
    "        \n",
    "        outputs = model(data)\n",
    "        _, predicted = torch.max(outputs.data, 1)\n",
    "        total += target.size(0)\n",
    "        correct += (predicted == target).sum().item()\n",
    "        \n",
    "        test_targets.extend(target.cpu().numpy())\n",
    "        test_preds.extend(predicted.cpu().numpy())\n",
    "\n",
    "test_accuracy = 100 * correct / total\n",
    "print(f'Accuracy of the model on the test images: {100 * correct / total:.2f}%')\n",
    "\n",
    "\n",
    "\n",
    "\n",
    "accuracy = test_accuracy  # уже посчитано выше\n",
    "precision = precision_score(test_targets, test_preds, average='weighted')\n",
    "recall = recall_score(test_targets, test_preds, average='weighted')\n",
    "f1 = f1_score(test_targets, test_preds, average='weighted')\n",
    "\n",
    "# Print the results\n",
    "print(f'Accuracy: {accuracy:.2f}%')\n",
    "print(f'Precision: {precision:.2f}')\n",
    "print(f'Recall: {recall:.2f}')\n",
    "print(f'F1 Score: {f1:.2f}')\n",
    "\n",
    "with open(\"training_metrics.pkl\", \"wb\") as f:\n",
    "    pickle.dump({\n",
    "        \"train_loss\": train_loss_metr,\n",
    "        \"val_loss\": val_loss_metr,\n",
    "        \"train_acc\": train_acc_metr,\n",
    "        \"val_acc\": val_acc_metr,\n",
    "        \"accuracy\": accuracy,\n",
    "        \"precision\": precision,\n",
    "        \"recall\": recall,\n",
    "        \"f1_score\": f1\n",
    "    }, f)\n",
    "\n",
    "torch.save(model.state_dict(), \"./braincnn_prototype.weights\")"
   ]
  },
  {
   "cell_type": "code",
   "execution_count": 11,
   "metadata": {
    "ExecuteTime": {
     "end_time": "2025-03-05T13:52:17.122571Z",
     "start_time": "2025-03-05T13:52:16.846883Z"
    }
   },
   "outputs": [
    {
     "data": {
      "image/png": "[encoded data removed]",
      "text/plain": [
       "<Figure size 1200x500 with 2 Axes>"
      ]
     },
     "metadata": {},
     "output_type": "display_data"
    }
   ],
   "source": [
    "# Load metrics\n",
    "with open(\"training_metrics.pkl\", \"rb\") as f:\n",
    "    metrics = pickle.load(f)\n",
    "\n",
    "train_loss_metr = metrics[\"train_loss\"]\n",
    "val_loss_metr = metrics[\"val_loss\"]\n",
    "train_acc_metr = metrics[\"train_acc\"]\n",
    "val_acc_metr = metrics[\"val_acc\"]\n",
    "\n",
    "plt.figure(figsize=(12, 5))\n",
    "\n",
    "# Loss curve\n",
    "plt.subplot(1, 2, 1)\n",
    "plt.plot(train_loss_metr, label='Train Loss')\n",
    "plt.plot(val_loss_metr, label='Validation Loss')\n",
    "plt.xlabel('Epochs')\n",
    "plt.ylabel('Loss')\n",
    "plt.legend()\n",
    "plt.title('Loss Curve')\n",
    "\n",
    "# Accuracy curve\n",
    "plt.subplot(1, 2, 2)\n",
    "plt.plot(train_acc_metr, label='Train Accuracy')\n",
    "plt.plot(val_acc_metr, label='Validation Accuracy')\n",
    "plt.xlabel('Epochs')\n",
    "plt.ylabel('Accuracy')\n",
    "plt.legend()\n",
    "plt.title('Accuracy Curve')\n",
    "\n",
    "plt.savefig(\"training_plots.png\", dpi=300, bbox_inches=\"tight\")  # Сохранение в файл\n",
    "plt.show()\n"
   ]
  },
  {
   "cell_type": "code",
   "execution_count": null,
   "metadata": {},
   "outputs": [],
   "source": []
  }
 ],
 "metadata": {
  "kernelspec": {
   "display_name": "Python (myenv)",
   "language": "python",
   "name": "myenv"
  },
  "language_info": {
   "codemirror_mode": {
    "name": "ipython",
    "version": 3
   },
   "file_extension": ".py",
   "mimetype": "text/x-python",
   "name": "python",
   "nbconvert_exporter": "python",
   "pygments_lexer": "ipython3",
   "version": "3.12.9"
  }
 },
 "nbformat": 4,
 "nbformat_minor": 2
}
